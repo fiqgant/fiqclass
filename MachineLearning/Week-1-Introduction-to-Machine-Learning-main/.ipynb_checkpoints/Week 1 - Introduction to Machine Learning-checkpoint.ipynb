{
 "cells": [
  {
   "cell_type": "markdown",
   "id": "8119d909",
   "metadata": {},
   "source": [
    "# Week 1 - Introduction to Machine Learning"
   ]
  },
  {
   "cell_type": "markdown",
   "id": "eb0b8e49",
   "metadata": {},
   "source": [
    "# Basic data types and variables"
   ]
  },
  {
   "cell_type": "code",
   "execution_count": 1,
   "id": "88977dd6",
   "metadata": {},
   "outputs": [
    {
     "name": "stdout",
     "output_type": "stream",
     "text": [
      "7\n",
      "3.14\n",
      "fiq\n",
      "True\n",
      "--------------------\n",
      "10.14\n",
      "3.86\n",
      "21.98\n",
      "2.229299363057325\n"
     ]
    }
   ],
   "source": [
    "# Basic data types\n",
    "integer_var = 5\n",
    "float_var = 3.14\n",
    "string_var = \"fiq\"\n",
    "bool_var = True\n",
    "\n",
    "# Variable reassignment\n",
    "integer_var = 7\n",
    "\n",
    "# Basic mathematical operations\n",
    "sum = integer_var + float_var\n",
    "difference = integer_var - float_var\n",
    "product = integer_var * float_var\n",
    "quotient = integer_var / float_var\n",
    "\n",
    "print(integer_var)\n",
    "print(float_var)\n",
    "print(string_var)\n",
    "print(bool_var)\n",
    "print('--------------------')\n",
    "print(sum)\n",
    "print(difference)\n",
    "print(product)\n",
    "print(quotient)"
   ]
  },
  {
   "cell_type": "markdown",
   "id": "6a29c86d",
   "metadata": {},
   "source": [
    "# Control flow statements: if-else, for, while"
   ]
  },
  {
   "cell_type": "markdown",
   "id": "2159c6e0",
   "metadata": {},
   "source": [
    "## Here's an example of control flow statements using if-else:"
   ]
  },
  {
   "cell_type": "code",
   "execution_count": 2,
   "id": "cbbb46ac",
   "metadata": {},
   "outputs": [
    {
     "name": "stdout",
     "output_type": "stream",
     "text": [
      "You are not old enough to drink.\n"
     ]
    }
   ],
   "source": [
    "age = 18\n",
    "if age < 21:\n",
    "    print(\"You are not old enough to drink.\")\n",
    "else:\n",
    "    print(\"You are old enough to drink.\")"
   ]
  },
  {
   "cell_type": "markdown",
   "id": "a8fa99d6",
   "metadata": {},
   "source": [
    "## Here's an example of a for loop:"
   ]
  },
  {
   "cell_type": "code",
   "execution_count": 3,
   "id": "b8f34214",
   "metadata": {},
   "outputs": [
    {
     "name": "stdout",
     "output_type": "stream",
     "text": [
      "0\n",
      "1\n",
      "2\n",
      "3\n",
      "4\n"
     ]
    }
   ],
   "source": [
    "for i in range(5):\n",
    "    print(i)"
   ]
  },
  {
   "cell_type": "markdown",
   "id": "fdb1846c",
   "metadata": {},
   "source": [
    "## Here's an example of a while loop:"
   ]
  },
  {
   "cell_type": "code",
   "execution_count": 4,
   "id": "8ac35ad8",
   "metadata": {},
   "outputs": [
    {
     "name": "stdout",
     "output_type": "stream",
     "text": [
      "0\n",
      "1\n",
      "2\n",
      "3\n",
      "4\n"
     ]
    }
   ],
   "source": [
    "count = 0\n",
    "while count < 5:\n",
    "    print(count)\n",
    "    count += 1"
   ]
  },
  {
   "cell_type": "markdown",
   "id": "2fd6a285",
   "metadata": {},
   "source": [
    "# Functions and modules"
   ]
  },
  {
   "cell_type": "markdown",
   "id": "2b05227b",
   "metadata": {},
   "source": [
    "## Here's an example of a function:"
   ]
  },
  {
   "cell_type": "code",
   "execution_count": 5,
   "id": "41b05693",
   "metadata": {},
   "outputs": [
    {
     "name": "stdout",
     "output_type": "stream",
     "text": [
      "Hello, John\n"
     ]
    }
   ],
   "source": [
    "def greet(name):\n",
    "    print(\"Hello, \" + name)\n",
    "\n",
    "greet(\"John\")"
   ]
  },
  {
   "cell_type": "markdown",
   "id": "b423a2a9",
   "metadata": {},
   "source": [
    "## Here's an example of using modules:"
   ]
  },
  {
   "cell_type": "code",
   "execution_count": 6,
   "id": "6f7eb103",
   "metadata": {},
   "outputs": [
    {
     "name": "stdout",
     "output_type": "stream",
     "text": [
      "3.141592653589793\n"
     ]
    }
   ],
   "source": [
    "import math\n",
    "\n",
    "print(math.pi)"
   ]
  },
  {
   "cell_type": "markdown",
   "id": "0b8da012",
   "metadata": {},
   "source": [
    "# Basic data manipulation and visualization using NumPy and pandas"
   ]
  },
  {
   "cell_type": "code",
   "execution_count": 7,
   "id": "e96fc78f",
   "metadata": {},
   "outputs": [
    {
     "name": "stdout",
     "output_type": "stream",
     "text": [
      "[1 2 3 4 5]\n",
      "   name  age\n",
      "0  John   25\n",
      "1  Jane   30\n",
      "2   Bob   35\n"
     ]
    }
   ],
   "source": [
    "import numpy as np\n",
    "import pandas as pd\n",
    "\n",
    "# Using NumPy\n",
    "array = np.array([1, 2, 3, 4, 5])\n",
    "print(array)\n",
    "\n",
    "# Using pandas\n",
    "data = {'name': ['John', 'Jane', 'Bob'], 'age': [25, 30, 35]}\n",
    "df = pd.DataFrame(data)\n",
    "print(df)"
   ]
  },
  {
   "cell_type": "code",
   "execution_count": 8,
   "id": "2a12a40c",
   "metadata": {},
   "outputs": [
    {
     "name": "stdout",
     "output_type": "stream",
     "text": [
      "(3, 3)\n",
      "[[1 4 7]\n",
      " [2 5 8]\n",
      " [3 6 9]]\n",
      "   name  age gender\n",
      "0  John   25      M\n",
      "1  Jane   30      F\n",
      "2   Bob   35      M\n",
      "         age\n",
      "gender      \n",
      "F       30.0\n",
      "M       30.0\n"
     ]
    },
    {
     "data": {
      "image/png": "[encoded data removed]",
      "text/plain": [
       "<Figure size 640x480 with 1 Axes>"
      ]
     },
     "metadata": {},
     "output_type": "display_data"
    }
   ],
   "source": [
    "import numpy as np\n",
    "import pandas as pd\n",
    "import matplotlib.pyplot as plt\n",
    "\n",
    "# Using NumPy\n",
    "# Create a 2D array\n",
    "array = np.array([[1, 2, 3], [4, 5, 6], [7, 8, 9]])\n",
    "\n",
    "# Shape of the array\n",
    "print(array.shape)\n",
    "\n",
    "# Transpose of the array\n",
    "print(array.T)\n",
    "\n",
    "# Using pandas\n",
    "# Create a dataframe\n",
    "data = {'name': ['John', 'Jane', 'Bob'], 'age': [25, 30, 35], 'gender': ['M', 'F', 'M']}\n",
    "df = pd.DataFrame(data)\n",
    "\n",
    "# Show the first 5 rows\n",
    "print(df.head())\n",
    "\n",
    "# Group by gender and calculate the mean age\n",
    "print(df.groupby('gender').mean())\n",
    "\n",
    "# Data visualization\n",
    "# Bar chart of the count of each gender\n",
    "df['gender'].value_counts().plot(kind='bar')\n",
    "plt.show()"
   ]
  },
  {
   "cell_type": "markdown",
   "id": "07ff4113",
   "metadata": {},
   "source": [
    "# Libraries and Frameworks"
   ]
  },
  {
   "cell_type": "markdown",
   "id": "a4ba4e4e",
   "metadata": {},
   "source": [
    "## Tensorflow"
   ]
  },
  {
   "cell_type": "code",
   "execution_count": 9,
   "id": "c97b51a7",
   "metadata": {},
   "outputs": [
    {
     "name": "stdout",
     "output_type": "stream",
     "text": [
      "2.10.0\n"
     ]
    }
   ],
   "source": [
    "import tensorflow as tf\n",
    "print(tf.version.VERSION)"
   ]
  },
  {
   "cell_type": "code",
   "execution_count": 10,
   "id": "51334a87",
   "metadata": {},
   "outputs": [
    {
     "name": "stderr",
     "output_type": "stream",
     "text": [
      "2023-01-18 15:56:38.817179: I tensorflow/core/common_runtime/pluggable_device/pluggable_device_factory.cc:306] Could not identify NUMA node of platform GPU ID 0, defaulting to 0. Your kernel may not have been built with NUMA support.\n",
      "2023-01-18 15:56:38.817672: I tensorflow/core/common_runtime/pluggable_device/pluggable_device_factory.cc:272] Created TensorFlow device (/job:localhost/replica:0/task:0/device:GPU:0 with 0 MB memory) -> physical PluggableDevice (device: 0, name: METAL, pci bus id: <undefined>)\n"
     ]
    },
    {
     "name": "stdout",
     "output_type": "stream",
     "text": [
      "Metal device set to: Apple M2\n",
      "Epoch 1/5\n"
     ]
    },
    {
     "name": "stderr",
     "output_type": "stream",
     "text": [
      "2023-01-18 15:56:39.197117: W tensorflow/core/platform/profile_utils/cpu_utils.cc:128] Failed to get CPU frequency: 0 Hz\n",
      "2023-01-18 15:56:39.324355: I tensorflow/core/grappler/optimizers/custom_graph_optimizer_registry.cc:114] Plugin optimizer for device_type GPU is enabled.\n"
     ]
    },
    {
     "name": "stdout",
     "output_type": "stream",
     "text": [
      "1875/1875 [==============================] - 7s 3ms/step - loss: 0.2600 - accuracy: 0.9260\n",
      "Epoch 2/5\n",
      "1875/1875 [==============================] - 6s 3ms/step - loss: 0.1149 - accuracy: 0.9661\n",
      "Epoch 3/5\n",
      "1875/1875 [==============================] - 6s 3ms/step - loss: 0.0789 - accuracy: 0.9767\n",
      "Epoch 4/5\n",
      "1875/1875 [==============================] - 6s 3ms/step - loss: 0.0588 - accuracy: 0.9823\n",
      "Epoch 5/5\n",
      "1875/1875 [==============================] - 6s 3ms/step - loss: 0.0445 - accuracy: 0.9863\n",
      " 32/313 [==>...........................] - ETA: 0s - loss: 0.0791 - accuracy: 0.9756"
     ]
    },
    {
     "name": "stderr",
     "output_type": "stream",
     "text": [
      "2023-01-18 15:57:11.265766: I tensorflow/core/grappler/optimizers/custom_graph_optimizer_registry.cc:114] Plugin optimizer for device_type GPU is enabled.\n"
     ]
    },
    {
     "name": "stdout",
     "output_type": "stream",
     "text": [
      "313/313 [==============================] - 1s 3ms/step - loss: 0.0859 - accuracy: 0.9741\n",
      "Test accuracy: 0.9741000533103943\n"
     ]
    }
   ],
   "source": [
    "import tensorflow as tf\n",
    "from tensorflow import keras\n",
    "\n",
    "# Load the MNIST dataset\n",
    "mnist = keras.datasets.mnist\n",
    "(train_images, train_labels), (test_images, test_labels) = mnist.load_data()\n",
    "\n",
    "# Normalize the data\n",
    "train_images = train_images / 255.0\n",
    "test_images = test_images / 255.0\n",
    "\n",
    "# Define the model\n",
    "model = keras.Sequential([\n",
    "    keras.layers.Flatten(input_shape=(28, 28)),\n",
    "    keras.layers.Dense(128, activation='relu'),\n",
    "    keras.layers.Dense(10, activation='softmax')\n",
    "])\n",
    "\n",
    "# Compile the model\n",
    "model.compile(optimizer='adam', loss='sparse_categorical_crossentropy', metrics=['accuracy'])\n",
    "\n",
    "# Train the model\n",
    "model.fit(train_images, train_labels, epochs=5)\n",
    "\n",
    "# Evaluate the model\n",
    "test_loss, test_acc = model.evaluate(test_images, test_labels)\n",
    "print('Test accuracy:', test_acc)\n"
   ]
  },
  {
   "cell_type": "markdown",
   "id": "7ee9c317",
   "metadata": {},
   "source": [
    "## scikit-learn"
   ]
  },
  {
   "cell_type": "code",
   "execution_count": 11,
   "id": "52cf31f5",
   "metadata": {},
   "outputs": [
    {
     "name": "stdout",
     "output_type": "stream",
     "text": [
      "Mean squared error:  68351286833.039825\n"
     ]
    }
   ],
   "source": [
    "import pandas as pd\n",
    "from sklearn.linear_model import LinearRegression\n",
    "from sklearn.metrics import mean_squared_error\n",
    "\n",
    "# Load the data\n",
    "data = pd.read_csv(\"Dataset/housing.csv\")\n",
    "\n",
    "# Split the data into training and test sets\n",
    "X_train = data[['sqft_living']]\n",
    "y_train = data['price']\n",
    "X_test = data[['sqft_living']]\n",
    "y_test = data['price']\n",
    "\n",
    "# Train the model\n",
    "reg = LinearRegression().fit(X_train, y_train)\n",
    "\n",
    "# Make predictions\n",
    "y_pred = reg.predict(X_test)\n",
    "\n",
    "# Calculate the mean squared error\n",
    "mse = mean_squared_error(y_test, y_pred)\n",
    "print(\"Mean squared error: \", mse)"
   ]
  }
 ],
 "metadata": {
  "kernelspec": {
   "display_name": "Python 3.9 (ml)",
   "language": "python",
   "name": "ml"
  },
  "language_info": {
   "codemirror_mode": {
    "name": "ipython",
    "version": 3
   },
   "file_extension": ".py",
   "mimetype": "text/x-python",
   "name": "python",
   "nbconvert_exporter": "python",
   "pygments_lexer": "ipython3",
   "version": "3.9.15"
  }
 },
 "nbformat": 4,
 "nbformat_minor": 5
}
